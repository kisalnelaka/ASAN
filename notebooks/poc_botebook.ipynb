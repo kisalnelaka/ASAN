{
 "cells": [
  {
   "cell_type": "code",
   "execution_count": 2,
   "id": "c2f63661",
   "metadata": {},
   "outputs": [
    {
     "ename": "NameError",
     "evalue": "name 'BaselineMLP' is not defined",
     "output_type": "error",
     "traceback": [
      "\u001b[31m---------------------------------------------------------------------------\u001b[39m",
      "\u001b[31mNameError\u001b[39m                                 Traceback (most recent call last)",
      "\u001b[36mCell\u001b[39m\u001b[36m \u001b[39m\u001b[32mIn[2]\u001b[39m\u001b[32m, line 36\u001b[39m\n\u001b[32m     33\u001b[39m         losses.append(loss.item())\n\u001b[32m     34\u001b[39m     \u001b[38;5;28;01mreturn\u001b[39;00m model, losses\n\u001b[32m---> \u001b[39m\u001b[32m36\u001b[39m models = {\u001b[33m'\u001b[39m\u001b[33mBaseline\u001b[39m\u001b[33m'\u001b[39m: \u001b[43mBaselineMLP\u001b[49m(), \u001b[33m'\u001b[39m\u001b[33mMIT-Inspired\u001b[39m\u001b[33m'\u001b[39m: MITInspired(), \u001b[33m'\u001b[39m\u001b[33mASAN\u001b[39m\u001b[33m'\u001b[39m: ASAN()}\n\u001b[32m     37\u001b[39m losses_dict = {}\n\u001b[32m     38\u001b[39m \u001b[38;5;28;01mfor\u001b[39;00m name, model \u001b[38;5;129;01min\u001b[39;00m models.items():\n",
      "\u001b[31mNameError\u001b[39m: name 'BaselineMLP' is not defined"
     ]
    }
   ],
   "source": [
    "import torch\n",
    "import torch.nn as nn\n",
    "import torch.optim as optim\n",
    "import numpy as np\n",
    "import matplotlib.pyplot as plt\n",
    "\n",
    "# Data\n",
    "def generate_symmetric_data(n_samples=1000, noise=0.1):\n",
    "    angles = np.random.uniform(0, 2*np.pi, n_samples)\n",
    "    radii = np.random.normal(1, noise, n_samples)\n",
    "    labels = np.random.choice([0, 1], n_samples)\n",
    "    x = radii * np.cos(angles) + labels * 2\n",
    "    y = radii * np.sin(angles)\n",
    "    data = np.stack([x, y], axis=1)\n",
    "    return torch.tensor(data, dtype=torch.float32), torch.tensor(labels, dtype=torch.long)\n",
    "\n",
    "train_data, train_labels = generate_symmetric_data(800, noise=0.2)\n",
    "test_data, test_labels = generate_symmetric_data(200, noise=0.2)\n",
    "\n",
    "# Models (copy from models.py)\n",
    "\n",
    "# Train with loss tracking\n",
    "def train_with_losses(model, data, labels, epochs=100, lr=0.01):\n",
    "    optimizer = optim.Adam(model.parameters(), lr=lr)\n",
    "    criterion = nn.CrossEntropyLoss()\n",
    "    losses = []\n",
    "    for epoch in range(epochs):\n",
    "        optimizer.zero_grad()\n",
    "        out = model(data)\n",
    "        loss = criterion(out, labels)\n",
    "        loss.backward()\n",
    "        optimizer.step()\n",
    "        losses.append(loss.item())\n",
    "    return model, losses\n",
    "\n",
    "models = {'Baseline': BaselineMLP(), 'MIT-Inspired': MITInspired(), 'ASAN': ASAN()}\n",
    "losses_dict = {}\n",
    "for name, model in models.items():\n",
    "    model, losses = train_with_losses(model, train_data, train_labels)\n",
    "    losses_dict[name] = losses\n",
    "    train_acc = (torch.argmax(model(train_data), dim=1) == train_labels).float().mean().item()\n",
    "    test_acc = (torch.argmax(model(test_data), dim=1) == test_labels).float().mean().item()\n",
    "    print(f'{name} Train Acc: {train_acc:.4f}, Test Acc: {test_acc:.4f}')\n",
    "\n",
    "# Plot\n",
    "plt.figure(figsize=(10,5))\n",
    "for name, loss in losses_dict.items():\n",
    "    plt.plot(loss, label=name)\n",
    "plt.xlabel('Epochs')\n",
    "plt.ylabel('Loss')\n",
    "plt.legend()\n",
    "plt.title('Training Convergence on Symmetric Data')\n",
    "plt.show()"
   ]
  }
 ],
 "metadata": {
  "kernelspec": {
   "display_name": "Python 3",
   "language": "python",
   "name": "python3"
  },
  "language_info": {
   "codemirror_mode": {
    "name": "ipython",
    "version": 3
   },
   "file_extension": ".py",
   "mimetype": "text/x-python",
   "name": "python",
   "nbconvert_exporter": "python",
   "pygments_lexer": "ipython3",
   "version": "3.13.5"
  }
 },
 "nbformat": 4,
 "nbformat_minor": 5
}
